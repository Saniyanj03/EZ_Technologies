{
 "cells": [
  {
   "cell_type": "markdown",
   "id": "962d75d5",
   "metadata": {},
   "source": [
    "### file handling\n",
    "#### 3 mode read,write,append\n",
    "#### write mode creates a file is the file doesnt exist, read and append modes work only on existing file"
   ]
  },
  {
   "cell_type": "code",
   "execution_count": 1,
   "id": "b0bbfcf6",
   "metadata": {},
   "outputs": [],
   "source": [
    "import os\n",
    "with open(\"file1.txt\",'w') as f:\n",
    "    f.write(\"my first file\")\n",
    "    f.close()"
   ]
  },
  {
   "cell_type": "code",
   "execution_count": 2,
   "id": "2510a08b",
   "metadata": {},
   "outputs": [
    {
     "name": "stdout",
     "output_type": "stream",
     "text": [
      "my first file\n"
     ]
    }
   ],
   "source": [
    "with open(\"file1.txt\",'r') as f:\n",
    "    print(f.read())\n",
    "    f.close()"
   ]
  },
  {
   "cell_type": "code",
   "execution_count": 3,
   "id": "6d8420d2",
   "metadata": {},
   "outputs": [],
   "source": [
    "with open(\"file1.txt\",'a') as f:\n",
    "    f.write(\",this is me appending the file\")\n",
    "    f.close()"
   ]
  },
  {
   "cell_type": "code",
   "execution_count": 4,
   "id": "b0781af0",
   "metadata": {},
   "outputs": [
    {
     "name": "stdout",
     "output_type": "stream",
     "text": [
      "my first file,this is me appending the file\n"
     ]
    }
   ],
   "source": [
    "with open(\"file1.txt\",'r') as f:\n",
    "    print(f.read())\n",
    "    f.close()"
   ]
  },
  {
   "cell_type": "code",
   "execution_count": 5,
   "id": "42f77e32",
   "metadata": {},
   "outputs": [],
   "source": [
    "import os\n",
    "with open(\"saniya.txt\",'w') as f:\n",
    "    f.write(\"hello , my name is N J Saniya , i am an undergrad at bitm\")\n",
    "    f.close()"
   ]
  },
  {
   "cell_type": "code",
   "execution_count": 6,
   "id": "ff37f5dc",
   "metadata": {},
   "outputs": [
    {
     "name": "stdout",
     "output_type": "stream",
     "text": [
      "hello , my name is N J Saniya , i am an undergrad at bitm\n"
     ]
    }
   ],
   "source": [
    "with open(\"saniya.txt\",'r') as f:\n",
    "    print(f.read())\n",
    "    f.close()"
   ]
  },
  {
   "cell_type": "code",
   "execution_count": 7,
   "id": "514c3469",
   "metadata": {},
   "outputs": [
    {
     "name": "stdout",
     "output_type": "stream",
     "text": [
      "hello , my name is N J Saniya , i am an undergrad at bitm\n",
      "hello , my name is N J Saniya , i am an undergrad in ballari\n"
     ]
    }
   ],
   "source": [
    "with open(\"saniya.txt\",'r') as f:\n",
    "    x=f.read()\n",
    "    print(x)\n",
    "    \n",
    "x=x.replace(\"at bitm\",\"in ballari\")\n",
    "print(x)\n",
    "with open(\"saniya.txt\",'w') as f:\n",
    "    f.write(x)\n",
    "    f.close()\n",
    "\n",
    "    \n",
    "\n",
    "    "
   ]
  },
  {
   "cell_type": "code",
   "execution_count": 8,
   "id": "f058a148",
   "metadata": {},
   "outputs": [
    {
     "name": "stdout",
     "output_type": "stream",
     "text": [
      "0\n",
      "30\n",
      ", i am an undergrad in ballari\n"
     ]
    }
   ],
   "source": [
    "import os\n",
    "with open(\"saniya.txt\",'rb') as f:#read binary mode\n",
    "    print(f.tell())\n",
    "    f.seek(-30,2)\n",
    "    print(f.tell())\n",
    "    print(f.read().decode('utf-8'))\n",
    "    f.close()\n",
    "    "
   ]
  },
  {
   "cell_type": "code",
   "execution_count": 9,
   "id": "e49b9fb2",
   "metadata": {},
   "outputs": [
    {
     "name": "stdout",
     "output_type": "stream",
     "text": [
      "0\n",
      "25\n",
      "niya , i am an undergrad in ballari\n"
     ]
    }
   ],
   "source": [
    "with open(\"saniya.txt\",'r+b') as f:\n",
    "    print(f.tell())\n",
    "    f.seek(-35,2) #0 form of the begining of the file,2 from the end of the file, 1 from where the cursor is currently\n",
    "    print(f.tell())\n",
    "    print(f.read().decode('utf-8'))#utf-universal text for\n",
    "    f.close()\n",
    "    "
   ]
  },
  {
   "cell_type": "code",
   "execution_count": 10,
   "id": "9385f3ae",
   "metadata": {},
   "outputs": [],
   "source": [
    "os.remove(\"file1.txt\")"
   ]
  },
  {
   "cell_type": "code",
   "execution_count": 9,
   "id": "9be501c6",
   "metadata": {},
   "outputs": [
    {
     "name": "stdout",
     "output_type": "stream",
     "text": [
      "create equipment id:bt001\n",
      "enter equipment name:bat\n",
      "enter equipment condition:good\n",
      "enter equipment status:available\n"
     ]
    }
   ],
   "source": [
    "def create_data():\n",
    "    eid=input(\"create equipment id:\")\n",
    "    ename=input(\"enter equipment name:\")\n",
    "    econd=input(\"enter equipment condition:\")\n",
    "    estatus=input(\"enter equipment status:\")\n",
    "    with open(\"all equiment.txt\",'a') as f:\n",
    "        s=f\"{eid}\\t\\t{ename}\\t\\t{econd}\\t\\t{estatus}\\n\"\n",
    "        f.write(s)\n",
    "        f.close()\n",
    "create_data()       "
   ]
  },
  {
   "cell_type": "code",
   "execution_count": null,
   "id": "d1aec0fc",
   "metadata": {},
   "outputs": [],
   "source": [
    "def equipment_tracking():\n",
    "    with open(\"all equipment.txt\",'r') as f:\n",
    "        print(\"list of equipments:\")\n",
    "        print(\"EID,ENAME,CONDITION,STATUS\")\n",
    "        print(f.read())\n",
    "        x=f.read()\n",
    "        eid=input(\"ENter the equipment id:\")\n",
    "        if(eid in x):\n",
    "            with open(\"equipmet_track.txt\",'w') as f:\n",
    "                f.write(x)\n",
    "                \n",
    "    "
   ]
  },
  {
   "cell_type": "code",
   "execution_count": 7,
   "id": "62b29568",
   "metadata": {},
   "outputs": [],
   "source": []
  },
  {
   "cell_type": "code",
   "execution_count": null,
   "id": "5512c7ac",
   "metadata": {},
   "outputs": [],
   "source": []
  }
 ],
 "metadata": {
  "kernelspec": {
   "display_name": "Python 3 (ipykernel)",
   "language": "python",
   "name": "python3"
  },
  "language_info": {
   "codemirror_mode": {
    "name": "ipython",
    "version": 3
   },
   "file_extension": ".py",
   "mimetype": "text/x-python",
   "name": "python",
   "nbconvert_exporter": "python",
   "pygments_lexer": "ipython3",
   "version": "3.11.5"
  }
 },
 "nbformat": 4,
 "nbformat_minor": 5
}
