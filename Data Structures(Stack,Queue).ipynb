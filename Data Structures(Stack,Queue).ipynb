{
 "cells": [
  {
   "cell_type": "code",
   "execution_count": 5,
   "id": "e2e4ee69",
   "metadata": {},
   "outputs": [
    {
     "name": "stdout",
     "output_type": "stream",
     "text": [
      "5\n",
      "[10, 20, 30, 40, 50]\n",
      "50\n",
      "[10, 20, 30, 40]\n"
     ]
    }
   ],
   "source": [
    "class Stack:\n",
    "    def __init__(self):\n",
    "        self.items=[]\n",
    "    def push(self,data):\n",
    "        self.items.append(data)\n",
    "    def pop(self):\n",
    "        return self.items.pop()\n",
    "    def size(self):\n",
    "        return len(self.items)\n",
    "s=Stack()\n",
    "s.push(10)\n",
    "s.push(20)\n",
    "s.push(30)\n",
    "s.push(40)\n",
    "s.push(50)\n",
    "\n",
    "print(s.size())\n",
    "print(s.items)\n",
    "print(s.pop())\n",
    "print(s.items)"
   ]
  },
  {
   "cell_type": "code",
   "execution_count": null,
   "id": "a767afa5",
   "metadata": {},
   "outputs": [],
   "source": [
    "str1=input()\n",
    "stack=[]\n",
    "flag1=flag2=flag3=0\n",
    "for s in str1:\n",
    "    if s == '(' or s=='{' or s=='[':\n",
    "        stack.append(s)\n",
    "    if s ==')':\n",
    "        if stack.pop()=='(':\n",
    "            flag1 = 1 \n",
    "        else:\n",
    "            print(\"Invalid expression\")\n",
    "            break\n",
    "    if s=='}':\n",
    "        if stack.pop()=='{':\n",
    "            flag2=1\n",
    "        else:\n",
    "            print(\"invalid expression\")\n",
    "            break\n",
    "    if s==']':\n",
    "        if stack.pop()=='[':\n",
    "            flag3=1\n",
    "        else:\n",
    "            print(\"invalid expression\")\n",
    "            break\n",
    "            \n",
    "if len(stack)==0:\n",
    "    if flag1==1 and flag2==1 and flag3==1 :\n",
    "        print(\"Valid expression\")\n",
    "        \n",
    "        \n",
    "        "
   ]
  },
  {
   "cell_type": "code",
   "execution_count": null,
   "id": "cc0ce5c6",
   "metadata": {},
   "outputs": [],
   "source": [
    "s=[3,5,2,14,5,3,7,9,4,6,9,4,2,5,3]\n",
    "n=len(s)\n",
    "a=[]\n",
    "fo\n",
    "\n",
    "\n",
    "       \n",
    "            \n",
    "        \n",
    "    "
   ]
  },
  {
   "cell_type": "code",
   "execution_count": 1,
   "id": "1de3a34d",
   "metadata": {},
   "outputs": [
    {
     "ename": "AttributeError",
     "evalue": "'Queue' object has no attribute 'item'",
     "output_type": "error",
     "traceback": [
      "\u001b[1;31m---------------------------------------------------------------------------\u001b[0m",
      "\u001b[1;31mAttributeError\u001b[0m                            Traceback (most recent call last)",
      "Cell \u001b[1;32mIn[1], line 11\u001b[0m\n\u001b[0;32m      9\u001b[0m         \u001b[38;5;28;01mreturn\u001b[39;00m \u001b[38;5;28mlen\u001b[39m(\u001b[38;5;28mself\u001b[39m\u001b[38;5;241m.\u001b[39mitem)\n\u001b[0;32m     10\u001b[0m q\u001b[38;5;241m=\u001b[39mQueue()\n\u001b[1;32m---> 11\u001b[0m q\u001b[38;5;241m.\u001b[39mpush(\u001b[38;5;241m10\u001b[39m)\n\u001b[0;32m     12\u001b[0m q\u001b[38;5;241m.\u001b[39mpush(\u001b[38;5;241m20\u001b[39m)\n\u001b[0;32m     13\u001b[0m q\u001b[38;5;241m.\u001b[39mpush(\u001b[38;5;241m30\u001b[39m)\n",
      "Cell \u001b[1;32mIn[1], line 5\u001b[0m, in \u001b[0;36mQueue.push\u001b[1;34m(self, data)\u001b[0m\n\u001b[0;32m      4\u001b[0m \u001b[38;5;28;01mdef\u001b[39;00m \u001b[38;5;21mpush\u001b[39m(\u001b[38;5;28mself\u001b[39m,data):\n\u001b[1;32m----> 5\u001b[0m     \u001b[38;5;28mself\u001b[39m\u001b[38;5;241m.\u001b[39mitem\u001b[38;5;241m.\u001b[39mappend(data)\n",
      "\u001b[1;31mAttributeError\u001b[0m: 'Queue' object has no attribute 'item'"
     ]
    }
   ],
   "source": [
    "class Queue:\n",
    "    def __init__(self):\n",
    "        self.items=[]\n",
    "    def push(self,data):\n",
    "        self.item.append(data)\n",
    "    def pop(self):\n",
    "        return self.item.pop(0)\n",
    "    def size(self):\n",
    "        return len(self.item)\n",
    "    def top(self):\n",
    "        return self.items[-1]\n",
    "q=Queue()\n",
    "q.push(10)\n",
    "q.push(20)\n",
    "q.push(30)\n",
    "q.push(40)\n",
    "q.push(50)\n",
    "print(q.size())\n",
    "print(q.items())\n",
    "print(q.pop())"
   ]
  },
  {
   "cell_type": "code",
   "execution_count": 2,
   "id": "5d9f5b7a",
   "metadata": {},
   "outputs": [
    {
     "ename": "NameError",
     "evalue": "name 'fgtyrtrtrttr' is not defined",
     "output_type": "error",
     "traceback": [
      "\u001b[1;31m---------------------------------------------------------------------------\u001b[0m",
      "\u001b[1;31mNameError\u001b[0m                                 Traceback (most recent call last)",
      "Cell \u001b[1;32mIn[2], line 1\u001b[0m\n\u001b[1;32m----> 1\u001b[0m fgtyrtrtrttr\n\u001b[0;32m      2\u001b[0m o\n",
      "\u001b[1;31mNameError\u001b[0m: name 'fgtyrtrtrttr' is not defined"
     ]
    }
   ],
   "source": [
    "fgtyrtrtrttr\n",
    "o"
   ]
  },
  {
   "cell_type": "code",
   "execution_count": null,
   "id": "ad11cc4b",
   "metadata": {},
   "outputs": [],
   "source": []
  }
 ],
 "metadata": {
  "kernelspec": {
   "display_name": "Python 3 (ipykernel)",
   "language": "python",
   "name": "python3"
  },
  "language_info": {
   "codemirror_mode": {
    "name": "ipython",
    "version": 3
   },
   "file_extension": ".py",
   "mimetype": "text/x-python",
   "name": "python",
   "nbconvert_exporter": "python",
   "pygments_lexer": "ipython3",
   "version": "3.11.5"
  }
 },
 "nbformat": 4,
 "nbformat_minor": 5
}
