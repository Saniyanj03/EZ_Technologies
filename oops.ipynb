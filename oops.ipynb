{
 "cells": [
  {
   "cell_type": "code",
   "execution_count": 3,
   "id": "2bb3a6cf",
   "metadata": {},
   "outputs": [
    {
     "name": "stdout",
     "output_type": "stream",
     "text": [
      "Saniya 20 F\n"
     ]
    }
   ],
   "source": [
    "class Student:\n",
    "    def __init__(self,nm,ag,gn):\n",
    "        self.name=nm\n",
    "        self.age=ag\n",
    "        self.gn=gn\n",
    "st1=Student(\"Saniya\",20,'F')\n",
    "print(st1.name,st1.age,st1.gn)"
   ]
  },
  {
   "cell_type": "code",
   "execution_count": 10,
   "id": "53d32887",
   "metadata": {},
   "outputs": [
    {
     "name": "stdout",
     "output_type": "stream",
     "text": [
      "Enter Name:saniya\n",
      "enter Age:20\n",
      "Enter Gender:F\n",
      "saniya 20 F\n"
     ]
    }
   ],
   "source": [
    "class STD:\n",
    "    def __init__(self):\n",
    "        self.name=None\n",
    "        self.age=None\n",
    "        self.gn=None\n",
    "st2=STD()\n",
    "st2.name=input(\"Enter Name:\")\n",
    "st2.age=input(\"enter Age:\")\n",
    "st2.gn=input(\"Enter Gender:\")\n",
    "print(st2.name,st2.age,st2.gn)"
   ]
  },
  {
   "cell_type": "code",
   "execution_count": 7,
   "id": "45317533",
   "metadata": {},
   "outputs": [
    {
     "name": "stdout",
     "output_type": "stream",
     "text": [
      "Enter Name:saniya\n",
      "enter Age:20\n",
      "Enter Gender:F\n",
      "saniya 20 F\n"
     ]
    }
   ],
   "source": [
    "class Student:\n",
    "    def __init__(self,nm,ag,gn):\n",
    "        self.name=nm\n",
    "        self.age=ag\n",
    "        self.gn=gn\n",
    "a=input(\"Enter Name:\")\n",
    "b=int(input(\"enter Age:\"))\n",
    "c=input(\"Enter Gender:\")\n",
    "st3=Student(a,b,c)\n",
    "print(a,b,c)"
   ]
  },
  {
   "cell_type": "code",
   "execution_count": 9,
   "id": "22625377",
   "metadata": {},
   "outputs": [
    {
     "name": "stdout",
     "output_type": "stream",
     "text": [
      "<class 'int'>\n"
     ]
    }
   ],
   "source": [
    "print(type(b))"
   ]
  },
  {
   "cell_type": "code",
   "execution_count": 11,
   "id": "c1f2124a",
   "metadata": {},
   "outputs": [],
   "source": [
    "a=1\n",
    "b='sdfg'\n",
    "c=2.4\n",
    "d=[10,\"abcd\",3.4]\n"
   ]
  },
  {
   "cell_type": "code",
   "execution_count": 14,
   "id": "b271319b",
   "metadata": {},
   "outputs": [
    {
     "name": "stdout",
     "output_type": "stream",
     "text": [
      "This is class A function\n",
      "This is class B function\n"
     ]
    }
   ],
   "source": [
    "class A:\n",
    "    def func1(self):\n",
    "        print(\"This is class A function\")\n",
    "class B:\n",
    "    def func2(self):\n",
    "        print(\"This is class B function\")\n",
    "ob1=A()\n",
    "ob2=B()\n",
    "ob1.func1()\n",
    "ob2.func2()"
   ]
  },
  {
   "cell_type": "code",
   "execution_count": 15,
   "id": "9fea884f",
   "metadata": {},
   "outputs": [
    {
     "ename": "AttributeError",
     "evalue": "'A' object has no attribute 'func2'",
     "output_type": "error",
     "traceback": [
      "\u001b[1;31m---------------------------------------------------------------------------\u001b[0m",
      "\u001b[1;31mAttributeError\u001b[0m                            Traceback (most recent call last)",
      "Cell \u001b[1;32mIn[15], line 1\u001b[0m\n\u001b[1;32m----> 1\u001b[0m ob1\u001b[38;5;241m.\u001b[39mfunc2()\n\u001b[0;32m      2\u001b[0m ob2\u001b[38;5;241m.\u001b[39mfunc1()\n",
      "\u001b[1;31mAttributeError\u001b[0m: 'A' object has no attribute 'func2'"
     ]
    }
   ],
   "source": [
    "ob1.func2()\n",
    "ob2.func1()"
   ]
  },
  {
   "cell_type": "code",
   "execution_count": 2,
   "id": "1cfeb012",
   "metadata": {},
   "outputs": [
    {
     "ename": "AttributeError",
     "evalue": "'A' object has no attribute 'func1'",
     "output_type": "error",
     "traceback": [
      "\u001b[1;31m---------------------------------------------------------------------------\u001b[0m",
      "\u001b[1;31mAttributeError\u001b[0m                            Traceback (most recent call last)",
      "Cell \u001b[1;32mIn[2], line 9\u001b[0m\n\u001b[0;32m      7\u001b[0m ob1\u001b[38;5;241m=\u001b[39mA()\n\u001b[0;32m      8\u001b[0m ob2\u001b[38;5;241m=\u001b[39mB()\n\u001b[1;32m----> 9\u001b[0m ob1\u001b[38;5;241m.\u001b[39mfunc1()\n\u001b[0;32m     10\u001b[0m ob2\u001b[38;5;241m.\u001b[39mfunc2()\n",
      "\u001b[1;31mAttributeError\u001b[0m: 'A' object has no attribute 'func1'"
     ]
    }
   ],
   "source": [
    "class A:\n",
    "    def __func1__(self):\n",
    "        print(\"This is class A function\")\n",
    "class B:\n",
    "    def func2(self):\n",
    "        print(\"This is class B function\")\n",
    "ob1=A()\n",
    "ob2=B()\n",
    "ob1.func1()\n",
    "ob2.func2()"
   ]
  },
  {
   "cell_type": "code",
   "execution_count": 3,
   "id": "84d0f27c",
   "metadata": {},
   "outputs": [
    {
     "name": "stdout",
     "output_type": "stream",
     "text": [
      "2\n",
      "5\n",
      "None\n"
     ]
    }
   ],
   "source": [
    "class A:\n",
    "    def __init__(self,a,b):\n",
    "        self.A=a\n",
    "        self.__B=b\n",
    "    def printB(self):\n",
    "        print(self.__B)\n",
    "ob1=A(2,5)\n",
    "print(ob1.A)\n",
    "print(ob1.printB())"
   ]
  },
  {
   "cell_type": "code",
   "execution_count": 4,
   "id": "796acda2",
   "metadata": {},
   "outputs": [
    {
     "name": "stdout",
     "output_type": "stream",
     "text": [
      "Student Details\n",
      "------student1-------\n",
      "Name: saniya\n",
      "USN: ai069\n",
      "Marks:\n",
      "Sub1: 90\n",
      "Sub2: 90\n",
      "Sub3: 89\n",
      "Sub4: 67\n",
      "Sub5: 45\n",
      "percentage: 76.2\n",
      "Grade:A\n",
      "------student2-------\n",
      "Name: Summi\n",
      "USN: ec168\n",
      "Marks:\n",
      "Sub1: 99\n",
      "Sub2: 89\n",
      "Sub3: 78\n",
      "Sub4: 32\n",
      "Sub5: 55\n",
      "percentage: 70.6\n",
      "Grade:A\n",
      "------student3-------\n",
      "Name: rekha\n",
      "USN: ec140\n",
      "Marks:\n",
      "Sub1: 99\n",
      "Sub2: 69\n",
      "Sub3: 78\n",
      "Sub4: 32\n",
      "Sub5: 55\n",
      "percentage: 66.60000000000001\n",
      "Grade:B+\n",
      "------student4-------\n",
      "Name: nafi\n",
      "USN: ee058\n",
      "Marks:\n",
      "Sub1: 99\n",
      "Sub2: 89\n",
      "Sub3: 88\n",
      "Sub4: 32\n",
      "Sub5: 55\n",
      "percentage: 72.6\n",
      "Grade:A\n",
      "-------student5------\n",
      "Name: dakshi\n",
      "USN: ee130\n",
      "Marks:\n",
      "Sub1: 99\n",
      "Sub2: 89\n",
      "Sub3: 78\n",
      "Sub4: 40\n",
      "Sub5: 55\n",
      "percentage: 72.2\n",
      "Grade:A\n"
     ]
    }
   ],
   "source": [
    "class StudentDetails:\n",
    "    def __init__(self,sname,usn):\n",
    "        self.name=sname\n",
    "        self.usn=usn\n",
    "        print(\"Name:\",sname)\n",
    "        print(\"USN:\",usn)\n",
    "        \n",
    "    def marks(self,m1,m2,m3,m4,m5):\n",
    "        self.m1=m1\n",
    "        print(\"Sub1:\",m1)\n",
    "        self.m2=m2\n",
    "        print(\"Sub2:\",m2)\n",
    "        self.m3=m3\n",
    "        print(\"Sub3:\",m3)\n",
    "        self.m4=m4\n",
    "        print(\"Sub4:\",m4)\n",
    "        self.m5=m5\n",
    "        print(\"Sub5:\",m5)\n",
    "        total=m1+m2+m3+m4+m5\n",
    "        per=(total/500)*100\n",
    "        print(\"percentage:\",per)\n",
    "        if 100>=per>=90:\n",
    "            grade='O'\n",
    "            print(\"Grade:\"+grade)\n",
    "        elif 89>=per>=80:\n",
    "            grade='A+'\n",
    "            print(\"Grade:\"+grade)\n",
    "        elif 79>=per>=70:\n",
    "            grade ='A'\n",
    "            print(\"Grade:\"+grade)\n",
    "        elif 69>=per>=60:\n",
    "            grade='B+'\n",
    "            print(\"Grade:\"+grade)\n",
    "        elif 59>=per>=35:\n",
    "            grade ='C'\n",
    "            print(\"Grade:\"+grade)\n",
    "        elif per<=35:\n",
    "            grade ='F'\n",
    "            print(\"Grade:\"+grade)\n",
    "            \n",
    "            \n",
    "print(\"Student Details\")\n",
    "print(\"------student1-------\")\n",
    "st1=StudentDetails(\"saniya\",\"ai069\")\n",
    "print(\"Marks:\")\n",
    "st1.marks(90,90,89,67,45)\n",
    "print(\"------student2-------\")\n",
    "st2=StudentDetails(\"Summi\",\"ec168\")\n",
    "print(\"Marks:\")\n",
    "st2.marks(99,89,78,32,55)\n",
    "print(\"------student3-------\")\n",
    "st3=StudentDetails(\"rekha\",\"ec140\")\n",
    "print(\"Marks:\")\n",
    "st3.marks(99,69,78,32,55)\n",
    "print(\"------student4-------\")\n",
    "st4=StudentDetails(\"nafi\",\"ee058\")\n",
    "print(\"Marks:\")\n",
    "st4.marks(99,89,88,32,55)\n",
    "print(\"-------student5------\")\n",
    "st5=StudentDetails(\"dakshi\",\"ee130\")\n",
    "print(\"Marks:\")\n",
    "st5.marks(99,89,78,40,55)\n",
    "\n",
    "\n",
    "\n",
    "        \n",
    "    \n",
    "    \n",
    "    \n",
    "        \n",
    "    \n"
   ]
  },
  {
   "cell_type": "code",
   "execution_count": 5,
   "id": "311c3b3b",
   "metadata": {},
   "outputs": [
    {
     "ename": "SyntaxError",
     "evalue": "invalid syntax (2510241297.py, line 9)",
     "output_type": "error",
     "traceback": [
      "\u001b[1;36m  Cell \u001b[1;32mIn[5], line 9\u001b[1;36m\u001b[0m\n\u001b[1;33m    self._Name=\u001b[0m\n\u001b[1;37m               ^\u001b[0m\n\u001b[1;31mSyntaxError\u001b[0m\u001b[1;31m:\u001b[0m invalid syntax\n"
     ]
    }
   ],
   "source": [
    "class Student1:\n",
    "    def __init__(self,N,U,M):\n",
    "        self.name=None\n",
    "        self.usn=None\n",
    "        self.Marks=None\n",
    "        self.percentage=None\n",
    "        self.Grade=None\n",
    "    def std_input(self):\n",
    "        self._Name=\n",
    "        \n",
    "        "
   ]
  },
  {
   "cell_type": "code",
   "execution_count": 4,
   "id": "ade4eeed",
   "metadata": {},
   "outputs": [
    {
     "name": "stdout",
     "output_type": "stream",
     "text": [
      "2 1 4 4\n"
     ]
    }
   ],
   "source": [
    "l=[2,2,1,2,1]\n",
    "n=len(l)\n",
    "\n",
    "for i in range(0,n):\n",
    "    lsum=0\n",
    "    rsum=0\n",
    "    for j in range(i,n):\n",
    "        rsum=rsum+l[j]\n",
    "    for k in range(0,i):\n",
    "        lsum=lsum+l[k]\n",
    "    if lsum==rsum:\n",
    "        print(i,l[i],lsum,rsum)\n",
    "        "
   ]
  },
  {
   "cell_type": "code",
   "execution_count": 5,
   "id": "4ef964d2",
   "metadata": {},
   "outputs": [
    {
     "name": "stdout",
     "output_type": "stream",
     "text": [
      "17 4 6 7\n"
     ]
    }
   ],
   "source": [
    "l=[2,4,3,5,6,3,4,6,7,1,2,5] \n",
    "sum=max=0\n",
    "for i in range(0,len(l)-2):\n",
    "    sum=l[i]+l[i+1]+l[i+2]\n",
    "    if max<sum:\n",
    "        max=sum\n",
    "        pos=i\n",
    "print(max,l[pos],l[pos+1],l[pos+2])"
   ]
  },
  {
   "cell_type": "code",
   "execution_count": null,
   "id": "79a28ee4",
   "metadata": {},
   "outputs": [],
   "source": []
  }
 ],
 "metadata": {
  "kernelspec": {
   "display_name": "Python 3 (ipykernel)",
   "language": "python",
   "name": "python3"
  },
  "language_info": {
   "codemirror_mode": {
    "name": "ipython",
    "version": 3
   },
   "file_extension": ".py",
   "mimetype": "text/x-python",
   "name": "python",
   "nbconvert_exporter": "python",
   "pygments_lexer": "ipython3",
   "version": "3.11.5"
  }
 },
 "nbformat": 4,
 "nbformat_minor": 5
}
